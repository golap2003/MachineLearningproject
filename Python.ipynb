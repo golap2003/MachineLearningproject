{
 "cells": [
  {
   "cell_type": "code",
   "execution_count": 3,
   "id": "0c90f05c-ab0c-483b-8cfe-bdf97a230104",
   "metadata": {},
   "outputs": [
    {
     "name": "stdout",
     "output_type": "stream",
     "text": [
      "5\n",
      "Mang\n",
      "ang\n",
      "Mango\n",
      "Ma\n",
      "Ma\n",
      "\n",
      "ng\n",
      "ar\n"
     ]
    }
   ],
   "source": [
    "#Day: 12\n",
    "fruit = \"Mango\"\n",
    "mangoLen = len(fruit)\n",
    "print(mangoLen)\n",
    "print(fruit[0:4]) # including 0 but not 4\n",
    "print(fruit[1:4]) # including 1 but not 4\n",
    "print(fruit[:5])\n",
    "print(fruit[0:-3])\n",
    "print(fruit[:len(fruit)-3])\n",
    "print(fruit[-1:len(fruit) - 3])\n",
    "print(fruit[-3:-1])\n",
    "\n",
    "# Quick Quiz:\n",
    "nm = \"Harry\"\n",
    "print(nm[-4:-2])"
   ]
  },
  {
   "cell_type": "code",
   "execution_count": 5,
   "id": "ff9a5f5f-a546-40b1-84bb-33928ec33678",
   "metadata": {},
   "outputs": [
    {
     "name": "stdout",
     "output_type": "stream",
     "text": [
      "26\n",
      "!!!Harry!! !!!!!!!!! Harry\n",
      "!!!HARRY!! !!!!!!!!! HARRY\n",
      "!!!harry!! !!!!!!!!! harry\n",
      "!!!Harry!! !!!!!!!!! Harry\n",
      "!!!John!! !!!!!!!!! John\n",
      "['!!!Harry!!', '!!!!!!!!!', 'Harry']\n",
      "Introduction to js\n",
      "25\n",
      "50\n",
      "            Welcome to the Console!!!             \n",
      "2\n",
      "True\n",
      "True\n",
      "-1\n",
      "True\n",
      "True\n",
      "True\n",
      "False\n",
      "True\n",
      "True\n",
      "True\n",
      "False\n",
      "True\n",
      "pYTHON IS A iNTERPRETED lANGUAGE\n",
      "His Name Is Dan. Dan Is An Honest Man.\n"
     ]
    }
   ],
   "source": [
    "#Day: 13\n",
    "# Strings are immutable. It can't be converted.\n",
    "a = \"!!!Harry!! !!!!!!!!! Harry\"\n",
    "print(len(a))\n",
    "print(a)\n",
    "print(a.upper())\n",
    "print(a.lower())\n",
    "print(a.rstrip(\"!\"))\n",
    "print(a.replace(\"Harry\", \"John\"))\n",
    "print(a.split(\" \"))\n",
    "blogHeading = \"introduction tO jS\"\n",
    "print(blogHeading.capitalize())\n",
    "\n",
    "str1 = \"Welcome to the Console!!!\"\n",
    "print(len(str1))\n",
    "print(len(str1.center(50)))\n",
    "print(str1.center(50))\n",
    "print(a.count(\"Harry\"))\n",
    "\n",
    "str1 = \"Welcome to the Console !!!\"\n",
    "print(str1.endswith(\"!!!\"))\n",
    "\n",
    "str1 = \"Welcome to the Console !!!\"\n",
    "print(str1.endswith(\"to\", 4, 10))\n",
    "\n",
    "str1 = \"He's name is Dan. He is an honest man.\"\n",
    "print(str1.find(\"ishh\"))\n",
    "# print(str1.index(\"ishh\"))\n",
    "\n",
    "str1 = \"WelcomeToTheConsole\"\n",
    "print(str1.isalnum())\n",
    "str1 = \"Welcome\"\n",
    "print(str1.isalpha())\n",
    "\n",
    "str1 = \"hello world\"\n",
    "print(str1.islower())\n",
    "\n",
    "str1 = \"We wish you a Merry Christmas\\n\"\n",
    "print(str1.isprintable())\n",
    "str1 = \"         \"       #using Spacebar\n",
    "print(str1.isspace())\n",
    "str2 = \"  \"       #using Tab\n",
    "print(str2.isspace())\n",
    "\n",
    "str1 = \"World Health Organization\" \n",
    "print(str1.istitle())\n",
    "\n",
    "str2 = \"To kill a Mocking bird\"\n",
    "print(str2.istitle())\n",
    "\n",
    "str1 = \"Python is a Interpreted Language\" \n",
    "print(str1.startswith(\"Python\"))\n",
    "\n",
    "str1 = \"Python is a Interpreted Language\" \n",
    "print(str1.swapcase())\n",
    "\n",
    "str1 = \"His name is Dan. Dan is an honest man.\"\n",
    "print(str1.title())"
   ]
  },
  {
   "cell_type": "code",
   "execution_count": 1,
   "id": "8417c0fe-b929-4eac-bbaf-cac5079a22b1",
   "metadata": {},
   "outputs": [
    {
     "name": "stdin",
     "output_type": "stream",
     "text": [
      "Enter your age:  20\n"
     ]
    },
    {
     "name": "stdout",
     "output_type": "stream",
     "text": [
      "Your age is: 20\n",
      "You can drive\n",
      "Yes\n"
     ]
    }
   ],
   "source": [
    "#Day: 14-If-Else\n",
    "a = int(input(\"Enter your age: \"))\n",
    "print(\"Your age is:\", a)\n",
    "# Conditional operators \n",
    "# >, <, >=, <=, ==, !=\n",
    "# print(a>18)\n",
    "# print(a<=18)\n",
    "# print(a==18)\n",
    "# print(a!=18)\n",
    "if(a>18):\n",
    "  print(\"You can drive\")\n",
    "  print(\"Yes\")\n",
    "else:\n",
    "  print(\"You cannot drive\")\n",
    "  print(\"No\")\n",
    "  print(\"Yay!\")\n"
   ]
  },
  {
   "cell_type": "code",
   "execution_count": 2,
   "id": "25eec12a-10a1-4309-904c-3cdf3b025995",
   "metadata": {},
   "outputs": [
    {
     "name": "stdin",
     "output_type": "stream",
     "text": [
      "Enter the value of x:  4\n"
     ]
    },
    {
     "name": "stdout",
     "output_type": "stream",
     "text": [
      "case is 4\n"
     ]
    }
   ],
   "source": [
    "#Day: 16-Match-Case\n",
    "x = int(input(\"Enter the value of x: \"))\n",
    "# x is the variable to match\n",
    "match x:\n",
    "    # if x is 0\n",
    "    case 0:\n",
    "        print(\"x is zero\")\n",
    "    # case with if-condition\n",
    "    case 4:\n",
    "        print(\"case is 4\")\n",
    "\n",
    "    case _ if x!=90:\n",
    "        print(x, \"is not 90\")\n",
    "\n",
    "    case _:\n",
    "        print(x)"
   ]
  },
  {
   "cell_type": "code",
   "execution_count": 7,
   "id": "2b3ccb58-3fa1-4299-b2c2-cd8e45a8d0cc",
   "metadata": {},
   "outputs": [
    {
     "name": "stdout",
     "output_type": "stream",
     "text": [
      "A, b, This is something special!\n",
      "h, i, s, h, e, k, Red\n",
      "R\n",
      "e\n",
      "d\n",
      "Green\n",
      "G\n",
      "r\n",
      "e\n",
      "e\n",
      "n\n",
      "Blue\n",
      "B\n",
      "l\n",
      "u\n",
      "e\n",
      "Yellow\n",
      "Y\n",
      "e\n",
      "l\n",
      "l\n",
      "o\n",
      "w\n",
      "1\n",
      "2\n",
      "3\n",
      "4\n",
      "5\n",
      "1\n",
      "2\n",
      "3\n",
      "4\n",
      "5\n",
      "6\n",
      "7\n",
      "8\n",
      "1\n",
      "4\n",
      "7\n",
      "10\n"
     ]
    }
   ],
   "source": [
    "#Day: 17-For-Loops\n",
    "name = 'Abhishek'\n",
    "for i in name:\n",
    "  print(i, end = \", \")\n",
    "  if(i ==\"b\"):\n",
    "    print(\"This is something special!\")\n",
    "    \n",
    "colors = [\"Red\", \"Green\", \"Blue\", \"Yellow\"]\n",
    "for color in colors:\n",
    "  print(color)\n",
    "  for i in color:\n",
    "    print(i)\n",
    "\n",
    "for k in range(5):\n",
    "  print(k + 1)\n",
    "  \n",
    "for k in range(1, 9):\n",
    "  print(k)\n",
    "\n",
    "for k in range(1, 12, 3):\n",
    "  print(k)"
   ]
  },
  {
   "cell_type": "code",
   "execution_count": 7,
   "id": "2a513aff-3544-43ce-bcc8-69fbd32ac061",
   "metadata": {},
   "outputs": [
    {
     "name": "stdin",
     "output_type": "stream",
     "text": [
      "Enter the number:  7\n"
     ]
    },
    {
     "name": "stdout",
     "output_type": "stream",
     "text": [
      "7\n"
     ]
    },
    {
     "name": "stdin",
     "output_type": "stream",
     "text": [
      "Enter the number:  5\n"
     ]
    },
    {
     "name": "stdout",
     "output_type": "stream",
     "text": [
      "5\n"
     ]
    },
    {
     "name": "stdin",
     "output_type": "stream",
     "text": [
      "Enter the number:  76\n"
     ]
    },
    {
     "name": "stdout",
     "output_type": "stream",
     "text": [
      "76\n",
      "Done with the loop\n"
     ]
    },
    {
     "name": "stdin",
     "output_type": "stream",
     "text": [
      "Enter a positive number:  0\n"
     ]
    },
    {
     "name": "stdout",
     "output_type": "stream",
     "text": [
      "0\n",
      "0\n",
      "1\n",
      "2\n",
      "3\n",
      "4\n",
      "5\n",
      "6\n",
      "7\n",
      "8\n",
      "9\n"
     ]
    }
   ],
   "source": [
    "#Day: 18-While-Loops\n",
    "i = int(input(\"Enter the number: \"))\n",
    "print(i)\n",
    "while(i<=38):\n",
    "  i = int(input(\"Enter the number: \"))\n",
    "  print(i)\n",
    "\n",
    "print(\"Done with the loop\")\n",
    "\n",
    "# count = 5\n",
    "# while (count > 0):\n",
    "#   print(count)\n",
    "#   count = count - 1\n",
    "# else:\n",
    "#   print(\"I am inside else\")\n",
    "\n",
    "# do {\n",
    "  # loop body;\n",
    "# }while(condition);\n",
    "\n",
    "while True:\n",
    "  number = int(input(\"Enter a positive number: \"))\n",
    "  print(number)\n",
    "  if not number > 0:\n",
    "    break\n",
    "  \n",
    "i = 0\n",
    "while True:\n",
    "  print(i)\n",
    "  i = i + 1\n",
    "  if(i%10 == 0):\n",
    "    break"
   ]
  },
  {
   "cell_type": "code",
   "execution_count": 6,
   "id": "62fca11d-c37d-4ae5-bc2a-33d8fdbe8978",
   "metadata": {},
   "outputs": [
    {
     "name": "stdout",
     "output_type": "stream",
     "text": [
      "5 X 1 = 5\n",
      "5 X 2 = 10\n",
      "5 X 3 = 15\n",
      "5 X 4 = 20\n",
      "5 X 5 = 25\n",
      "5 X 6 = 30\n",
      "5 X 7 = 35\n",
      "5 X 8 = 40\n",
      "5 X 9 = 45\n",
      "5 X 10 = 50\n",
      "Breaking out of the loop\n",
      "\n",
      "5 X 0 = 0\n",
      "5 X 1 = 5\n",
      "5 X 2 = 10\n",
      "5 X 3 = 15\n",
      "5 X 4 = 20\n",
      "5 X 5 = 25\n",
      "5 X 6 = 30\n",
      "5 X 7 = 35\n",
      "5 X 8 = 40\n",
      "5 X 9 = 45\n",
      "Skip the iteration\n",
      "5 X 11 = 55\n"
     ]
    }
   ],
   "source": [
    "for i in range(12):\n",
    "  if(i == 10):\n",
    "    break\n",
    "  print(\"5 X\", i+1, \"=\", 5 * (i+1))\n",
    "print(\"Breaking out of the loop\\n\")\n",
    "\n",
    "for i in range(12):\n",
    "  if(i == 10):\n",
    "    print(\"Skip the iteration\")\n",
    "    continue\n",
    "  print(\"5 X\", i, \"=\", 5 * i)"
   ]
  },
  {
   "cell_type": "code",
   "execution_count": 3,
   "id": "bc299393-3fc7-483c-80fe-25f0a18a8637",
   "metadata": {},
   "outputs": [
    {
     "name": "stdout",
     "output_type": "stream",
     "text": [
      "First number is greater\n",
      "4.235294117647059\n",
      "Second number is greater or equal\n",
      "7.219512195121951\n"
     ]
    }
   ],
   "source": [
    "#Day: 20-Functions\n",
    "def calculateGmean(a, b):\n",
    "  mean = (a*b)/(a+b)\n",
    "  print(mean)\n",
    "\n",
    "def isGreater(a, b):\n",
    "  if(a>b):\n",
    "    print(\"First number is greater\")\n",
    "  else:\n",
    "    print(\"Second number is greater or equal\")\n",
    "\n",
    "def isLesser(a, b):\n",
    "  pass\n",
    "  \n",
    "\n",
    "a = 9\n",
    "b = 8\n",
    "isGreater(a, b)\n",
    "calculateGmean(a, b)\n",
    "# gmean1 = (a*b)/(a+b)\n",
    "# print(gmean1)\n",
    "c = 8\n",
    "d = 74\n",
    "isGreater(c, d)\n",
    "calculateGmean(c, d)\n",
    "# gmean2 = (c*d)/(c+d)\n",
    "# print(gmean2)"
   ]
  },
  {
   "cell_type": "code",
   "execution_count": 5,
   "id": "64342ca0-d7a4-45da-8230-8a16fedc7fa7",
   "metadata": {},
   "outputs": [
    {
     "name": "stdout",
     "output_type": "stream",
     "text": [
      "The average is  5.5\n",
      "The average is  9.0\n",
      "4.75\n",
      "Hello, James Buchanan Barnes\n"
     ]
    }
   ],
   "source": [
    "#Day: 21-Function-Arguments\n",
    "def average(a, b, c=1):\n",
    "  print(\"The average is \", (a + b + c) / 2)\n",
    "\n",
    "# average(b=9)\n",
    "average(4, 6)\n",
    "average(5, 6, 7)\n",
    "\n",
    "def average(*numbers):\n",
    "  # print(type(numbers))\n",
    "  sum = 0\n",
    "  for i in numbers:\n",
    "    sum = sum + i\n",
    "  # print(\"Average is: \", sum / len(numbers))\n",
    "  # return 7\n",
    "  return sum / len(numbers)\n",
    "\n",
    "c = average(5, 6, 7, 1)\n",
    "print(c)\n",
    "\n",
    "\n",
    "def name(**name):\n",
    "  # print(type(name))\n",
    "  print(\"Hello,\", name[\"fname\"], name[\"mname\"], name[\"lname\"])\n",
    "\n",
    "\n",
    "name(mname=\"Buchanan\", lname=\"Barnes\", fname=\"James\")"
   ]
  },
  {
   "cell_type": "code",
   "execution_count": 2,
   "id": "54f81880-2e55-435b-8f7d-aaab88bf165f",
   "metadata": {},
   "outputs": [
    {
     "name": "stdout",
     "output_type": "stream",
     "text": [
      "[3, 5, 6, 'Harry', True, 6, 7, 2, 32, 345, 23]\n",
      "<class 'list'>\n",
      "3\n",
      "5\n",
      "6\n",
      "Harry\n",
      "True\n",
      "6\n",
      "32\n",
      "32\n",
      "6\n",
      "6\n",
      "Yes\n",
      "No\n",
      "Yes\n",
      "[3, 5, 6, 'Harry', True, 6, 7, 2, 32, 345, 23]\n",
      "[3, 5, 6, 'Harry', True, 6, 7]\n",
      "[5, 6, 'Harry', True, 6, 7, 2, 32]\n",
      "[5, True, 2]\n",
      "[0, 1, 4, 9, 16, 25, 36, 49, 64, 81]\n",
      "[0, 4, 16, 36, 64]\n"
     ]
    }
   ],
   "source": [
    "#Day: 22-Introduction-to-Lists\n",
    "marks = [3, 5, 6, \"Harry\", True, 6, 7 , 2, 32, 345, 23]\n",
    "print(marks)\n",
    "print(type(marks))\n",
    "print(marks[0])\n",
    "print(marks[1])\n",
    "print(marks[2])\n",
    "print(marks[3])\n",
    "print(marks[4])\n",
    "print(marks[5])\n",
    "\n",
    "print(marks[-3]) # Negative index\n",
    "print(marks[len(marks)-3]) # Positive index\n",
    "print(marks[5-3]) # Positive index\n",
    "print(marks[2]) # Positive index\n",
    "\n",
    "if 7 in marks:\n",
    "  print(\"Yes\")\n",
    "else:\n",
    "  print(\"No\")\n",
    "    \n",
    "if \"6\" in marks:\n",
    "  print(\"Yes\")\n",
    "else:\n",
    "  print(\"No\")\n",
    "\n",
    "# Same thing applies for strings as well!\n",
    "if \"Ha\" in \"Harry\":\n",
    "  print(\"Yes\")\n",
    "\n",
    "print(marks[:])\n",
    "print(marks[0:7])\n",
    "print(marks[1:9])\n",
    "print(marks[1:9:3])\n",
    "\n",
    "lst = [i for i in range(10)]\n",
    "print(lst)\n",
    "lst = [i*i for i in range(10)]\n",
    "print(lst)\n",
    "lst = [i*i for i in range(10) if i%2==0]\n",
    "print(lst)"
   ]
  },
  {
   "cell_type": "code",
   "execution_count": 4,
   "id": "8e8d8472-1497-43af-977e-2a0b6d323e56",
   "metadata": {},
   "outputs": [
    {
     "name": "stdout",
     "output_type": "stream",
     "text": [
      "[11, 45, 1, 2, 4, 6, 1, 1]\n",
      "[0, 45, 1, 2, 4, 6, 1, 1]\n",
      "[11, 45, 1, 2, 4, 6, 1, 1]\n",
      "[11, 45, 1, 2, 4, 6, 1, 1, 900, 1000, 1100]\n",
      "[11, 45, 1, 2, 4, 6, 1, 1]\n"
     ]
    }
   ],
   "source": [
    "#Day: 23-List-Methods\n",
    "l = [11, 45, 1, 2, 4, 6, 1, 1]\n",
    "print(l)\n",
    "# l.append(7)\n",
    "# l.sort()\n",
    "# l.sort(reverse=True)\n",
    "# l.reverse()\n",
    "# print(l.index(1))\n",
    "# print(l.count(1))\n",
    "m = l.copy()\n",
    "m[0] = 0\n",
    "print(m)\n",
    "print(l)\n",
    "\n",
    "# l.insert(1, 899)\n",
    "m = [900, 1000, 1100]\n",
    "# l.extend(m)\n",
    "k = l + m\n",
    "print(k)\n",
    "print(l)"
   ]
  },
  {
   "cell_type": "code",
   "execution_count": 8,
   "id": "bd7c3c83-e8f7-4ee3-a118-8cfb1cfeb27c",
   "metadata": {},
   "outputs": [
    {
     "name": "stdout",
     "output_type": "stream",
     "text": [
      "<class 'tuple'> (1, 2, 76, 342, 32, 'green', True)\n",
      "7\n",
      "1\n",
      "True\n",
      "76\n",
      "Yes 342 is present in this tuple\n",
      "(2, 76, 342)\n"
     ]
    }
   ],
   "source": [
    "#Day: 24-Introduction-to-Tuples\n",
    "tup = (1, 2, 76, 342, 32, \"green\", True)\n",
    "# tup[0] = 90 //error as tuple can't be modified\n",
    "print(type(tup), tup)\n",
    "print(len(tup))\n",
    "print(tup[0])\n",
    "print(tup[-1])\n",
    "print(tup[2])\n",
    "# print(tup[34]) //error\n",
    "\n",
    "if  342 in tup:\n",
    "  print(\"Yes 342 is present in this tuple\")\n",
    "tup2 = tup[1:4]\n",
    "print(tup2)"
   ]
  },
  {
   "cell_type": "code",
   "execution_count": 1,
   "id": "d20eaae6-d719-4ed8-87f5-88cb571b67e5",
   "metadata": {},
   "outputs": [
    {
     "name": "stdout",
     "output_type": "stream",
     "text": [
      "('Spain', 'Italy', 'Finland', 'Germany', 'Russia')\n",
      "7\n"
     ]
    }
   ],
   "source": [
    "#Day: 25-Operations-on-Tuples\n",
    "countries = (\"Spain\", \"Italy\", \"India\", \"England\", \"Germany\")\n",
    "temp = list(countries)\n",
    "temp.append(\"Russia\")       #add item \n",
    "temp.pop(3)                 #remove item\n",
    "temp[2] = \"Finland\"         #change item\n",
    "countries = tuple(temp)\n",
    "print(countries)\n",
    "\n",
    "tuple1 = (0, 1, 2, 3, 2, 31, 1, 3, 2, 3)\n",
    "# res = tuple1.count(3)\n",
    "# res = tuple1.index(3)\n",
    "# res = tuple1.index(311) //error\n",
    "res = tuple1.index(3, 4, 8)\n",
    "# res = len(tuple1)\n",
    "print(res)"
   ]
  },
  {
   "cell_type": "code",
   "execution_count": null,
   "id": "7993d114-7ec7-43a4-8d8b-ef7bd9c42ff5",
   "metadata": {},
   "outputs": [],
   "source": [
    "# Create a program capable of displaying questions to the user like KBC.\n",
    "# Use List data type to store the questions and their correct answers.\n",
    "# Display the final amount the person is taking home after playing the game.\n",
    "\n"
   ]
  },
  {
   "cell_type": "code",
   "execution_count": 4,
   "id": "058200c8-8616-414e-99aa-bfcc14b6a09f",
   "metadata": {},
   "outputs": [
    {
     "name": "stdout",
     "output_type": "stream",
     "text": [
      "Hey my name is Harry and I am from India\n",
      "Hey my name is Harry and I am from India\n",
      "We use f-strings like this: Hey my name is {name} and I am from {country}\n",
      "For only 49.10 dollars!\n",
      "For only 49.10 dollars!\n",
      "For only 49.10 dollars!\n",
      "60\n",
      "<class 'str'>\n"
     ]
    }
   ],
   "source": [
    "#Day: 28 - f-strings\n",
    "letter = \"Hey my name is {1} and I am from {0}\"\n",
    "country = \"India\"\n",
    "name = \"Harry\"\n",
    "print(letter.format(country, name))\n",
    "print(f\"Hey my name is {name} and I am from {country}\")\n",
    "print(f\"We use f-strings like this: Hey my name is {{name}} and I am from {{country}}\")\n",
    "\n",
    "txt = \"For only {price:.2f} dollars!\"\n",
    "print(txt.format(price = 49.09999))\n",
    "\n",
    "price = 49.09999\n",
    "txt = f\"For only {price:.2f} dollars!\"\n",
    "# print(txt)\n",
    "# print(txt.format())\n",
    "\n",
    "print(f\"{2 * 30}\")\n",
    "print(type(f\"{2 * 30}\"))"
   ]
  },
  {
   "cell_type": "code",
   "execution_count": 6,
   "id": "367afaac-8719-476e-9594-3beaaa169358",
   "metadata": {},
   "outputs": [
    {
     "name": "stdout",
     "output_type": "stream",
     "text": [
      "25\n",
      "Takes in a number n, returns the square of n\n"
     ]
    }
   ],
   "source": [
    "#Day: 29 - Docstrings\n",
    "def square(n):\n",
    "  '''Takes in a number n, returns the square of n'''\n",
    "  print(n**2)\n",
    "square(5)\n",
    "print(square.__doc__)"
   ]
  },
  {
   "cell_type": "code",
   "execution_count": null,
   "id": "33cfe372-26e4-42ac-a1b8-72c66817fe20",
   "metadata": {},
   "outputs": [],
   "source": []
  }
 ],
 "metadata": {
  "kernelspec": {
   "display_name": "Python 3 (ipykernel)",
   "language": "python",
   "name": "python3"
  },
  "language_info": {
   "codemirror_mode": {
    "name": "ipython",
    "version": 3
   },
   "file_extension": ".py",
   "mimetype": "text/x-python",
   "name": "python",
   "nbconvert_exporter": "python",
   "pygments_lexer": "ipython3",
   "version": "3.11.4"
  }
 },
 "nbformat": 4,
 "nbformat_minor": 5
}
